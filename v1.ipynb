{
 "cells": [
  {
   "attachments": {},
   "cell_type": "markdown",
   "metadata": {},
   "source": [
    "Link to dataset\n",
    "https://archive.ics.uci.edu/ml/datasets/Cardiotocography#"
   ]
  },
  {
   "cell_type": "code",
   "execution_count": 25,
   "metadata": {},
   "outputs": [],
   "source": [
    "# FileName\tof CTG examination\n",
    "# Date\tof the examination\n",
    "# b\tstart instant\n",
    "# e\tend instant\n",
    "# LBE\tbaseline value (medical expert)\n",
    "# LB\tbaseline value (SisPorto)\n",
    "# AC\taccelerations (SisPorto)\n",
    "# FM\tfoetal movement (SisPorto)\n",
    "# UC\tuterine contractions (SisPorto)\n",
    "# ASTV\tpercentage of time with abnormal short term variability  (SisPorto)\n",
    "# mSTV\tmean value of short term variability  (SisPorto)\n",
    "# ALTV\tpercentage of time with abnormal long term variability  (SisPorto)\n",
    "# mLTV\tmean value of long term variability  (SisPorto)\n",
    "# DL\tlight decelerations\n",
    "# DS\tsevere decelerations\n",
    "# DP\tprolongued decelerations\n",
    "# DR\trepetitive decelerations\n",
    "# Width\thistogram width\n",
    "# Min\tlow freq. of the histogram\n",
    "# Max\thigh freq. of the histogram\n",
    "# Nmax\tnumber of histogram peaks\n",
    "# Nzeros\tnumber of histogram zeros\n",
    "# Mode\thistogram mode\n",
    "# Mean\thistogram mean\n",
    "# Median\thistogram median\n",
    "# Variance\thistogram variance\n",
    "# Tendency\thistogram tendency: -1=left assymetric; 0=symmetric; 1=right assymetric\n",
    "# A\tcalm sleep\n",
    "# B\tREM sleep\n",
    "# C\tcalm vigilance\n",
    "# D\tactive vigilance\n",
    "# SH\tshift pattern (A or Susp with shifts)\n",
    "# AD\taccelerative/decelerative pattern (stress situation)\n",
    "# DE\tdecelerative pattern (vagal stimulation)\n",
    "# LD\tlargely decelerative pattern\n",
    "# FS\tflat-sinusoidal pattern (pathological state)\n",
    "# SUSP\tsuspect pattern\n",
    "# CLASS\tClass code (1 to 10) for classes A to SUSP\n",
    "# NSP\tNormal=1; Suspect=2; Pathologic=3\n"
   ]
  },
  {
   "cell_type": "code",
   "execution_count": 26,
   "metadata": {},
   "outputs": [],
   "source": [
    "import pandas as pd"
   ]
  },
  {
   "cell_type": "code",
   "execution_count": 27,
   "metadata": {},
   "outputs": [],
   "source": [
    "df=pd.read_excel('CTG.xls',sheet_name='Raw Data')"
   ]
  },
  {
   "cell_type": "code",
   "execution_count": 28,
   "metadata": {},
   "outputs": [
    {
     "data": {
      "text/html": [
       "<div>\n",
       "<style scoped>\n",
       "    .dataframe tbody tr th:only-of-type {\n",
       "        vertical-align: middle;\n",
       "    }\n",
       "\n",
       "    .dataframe tbody tr th {\n",
       "        vertical-align: top;\n",
       "    }\n",
       "\n",
       "    .dataframe thead th {\n",
       "        text-align: right;\n",
       "    }\n",
       "</style>\n",
       "<table border=\"1\" class=\"dataframe\">\n",
       "  <thead>\n",
       "    <tr style=\"text-align: right;\">\n",
       "      <th></th>\n",
       "      <th>FileName</th>\n",
       "      <th>Date</th>\n",
       "      <th>SegFile</th>\n",
       "      <th>b</th>\n",
       "      <th>e</th>\n",
       "      <th>LBE</th>\n",
       "      <th>LB</th>\n",
       "      <th>AC</th>\n",
       "      <th>FM</th>\n",
       "      <th>UC</th>\n",
       "      <th>...</th>\n",
       "      <th>C</th>\n",
       "      <th>D</th>\n",
       "      <th>E</th>\n",
       "      <th>AD</th>\n",
       "      <th>DE</th>\n",
       "      <th>LD</th>\n",
       "      <th>FS</th>\n",
       "      <th>SUSP</th>\n",
       "      <th>CLASS</th>\n",
       "      <th>NSP</th>\n",
       "    </tr>\n",
       "  </thead>\n",
       "  <tbody>\n",
       "    <tr>\n",
       "      <th>0</th>\n",
       "      <td>NaN</td>\n",
       "      <td>NaT</td>\n",
       "      <td>NaN</td>\n",
       "      <td>NaN</td>\n",
       "      <td>NaN</td>\n",
       "      <td>NaN</td>\n",
       "      <td>NaN</td>\n",
       "      <td>NaN</td>\n",
       "      <td>NaN</td>\n",
       "      <td>NaN</td>\n",
       "      <td>...</td>\n",
       "      <td>NaN</td>\n",
       "      <td>NaN</td>\n",
       "      <td>NaN</td>\n",
       "      <td>NaN</td>\n",
       "      <td>NaN</td>\n",
       "      <td>NaN</td>\n",
       "      <td>NaN</td>\n",
       "      <td>NaN</td>\n",
       "      <td>NaN</td>\n",
       "      <td>NaN</td>\n",
       "    </tr>\n",
       "    <tr>\n",
       "      <th>1</th>\n",
       "      <td>Variab10.txt</td>\n",
       "      <td>1996-12-01</td>\n",
       "      <td>CTG0001.txt</td>\n",
       "      <td>240.0</td>\n",
       "      <td>357.0</td>\n",
       "      <td>120.0</td>\n",
       "      <td>120.0</td>\n",
       "      <td>0.0</td>\n",
       "      <td>0.0</td>\n",
       "      <td>0.0</td>\n",
       "      <td>...</td>\n",
       "      <td>0.0</td>\n",
       "      <td>0.0</td>\n",
       "      <td>0.0</td>\n",
       "      <td>0.0</td>\n",
       "      <td>0.0</td>\n",
       "      <td>0.0</td>\n",
       "      <td>1.0</td>\n",
       "      <td>0.0</td>\n",
       "      <td>9.0</td>\n",
       "      <td>2.0</td>\n",
       "    </tr>\n",
       "    <tr>\n",
       "      <th>2</th>\n",
       "      <td>Fmcs_1.txt</td>\n",
       "      <td>1996-05-03</td>\n",
       "      <td>CTG0002.txt</td>\n",
       "      <td>5.0</td>\n",
       "      <td>632.0</td>\n",
       "      <td>132.0</td>\n",
       "      <td>132.0</td>\n",
       "      <td>4.0</td>\n",
       "      <td>0.0</td>\n",
       "      <td>4.0</td>\n",
       "      <td>...</td>\n",
       "      <td>0.0</td>\n",
       "      <td>0.0</td>\n",
       "      <td>0.0</td>\n",
       "      <td>1.0</td>\n",
       "      <td>0.0</td>\n",
       "      <td>0.0</td>\n",
       "      <td>0.0</td>\n",
       "      <td>0.0</td>\n",
       "      <td>6.0</td>\n",
       "      <td>1.0</td>\n",
       "    </tr>\n",
       "    <tr>\n",
       "      <th>3</th>\n",
       "      <td>Fmcs_1.txt</td>\n",
       "      <td>1996-05-03</td>\n",
       "      <td>CTG0003.txt</td>\n",
       "      <td>177.0</td>\n",
       "      <td>779.0</td>\n",
       "      <td>133.0</td>\n",
       "      <td>133.0</td>\n",
       "      <td>2.0</td>\n",
       "      <td>0.0</td>\n",
       "      <td>5.0</td>\n",
       "      <td>...</td>\n",
       "      <td>0.0</td>\n",
       "      <td>0.0</td>\n",
       "      <td>0.0</td>\n",
       "      <td>1.0</td>\n",
       "      <td>0.0</td>\n",
       "      <td>0.0</td>\n",
       "      <td>0.0</td>\n",
       "      <td>0.0</td>\n",
       "      <td>6.0</td>\n",
       "      <td>1.0</td>\n",
       "    </tr>\n",
       "    <tr>\n",
       "      <th>4</th>\n",
       "      <td>Fmcs_1.txt</td>\n",
       "      <td>1996-05-03</td>\n",
       "      <td>CTG0004.txt</td>\n",
       "      <td>411.0</td>\n",
       "      <td>1192.0</td>\n",
       "      <td>134.0</td>\n",
       "      <td>134.0</td>\n",
       "      <td>2.0</td>\n",
       "      <td>0.0</td>\n",
       "      <td>6.0</td>\n",
       "      <td>...</td>\n",
       "      <td>0.0</td>\n",
       "      <td>0.0</td>\n",
       "      <td>0.0</td>\n",
       "      <td>1.0</td>\n",
       "      <td>0.0</td>\n",
       "      <td>0.0</td>\n",
       "      <td>0.0</td>\n",
       "      <td>0.0</td>\n",
       "      <td>6.0</td>\n",
       "      <td>1.0</td>\n",
       "    </tr>\n",
       "  </tbody>\n",
       "</table>\n",
       "<p>5 rows × 40 columns</p>\n",
       "</div>"
      ],
      "text/plain": [
       "       FileName       Date      SegFile      b       e    LBE     LB   AC  \\\n",
       "0           NaN        NaT          NaN    NaN     NaN    NaN    NaN  NaN   \n",
       "1  Variab10.txt 1996-12-01  CTG0001.txt  240.0   357.0  120.0  120.0  0.0   \n",
       "2    Fmcs_1.txt 1996-05-03  CTG0002.txt    5.0   632.0  132.0  132.0  4.0   \n",
       "3    Fmcs_1.txt 1996-05-03  CTG0003.txt  177.0   779.0  133.0  133.0  2.0   \n",
       "4    Fmcs_1.txt 1996-05-03  CTG0004.txt  411.0  1192.0  134.0  134.0  2.0   \n",
       "\n",
       "    FM   UC  ...    C    D    E   AD   DE   LD   FS  SUSP  CLASS  NSP  \n",
       "0  NaN  NaN  ...  NaN  NaN  NaN  NaN  NaN  NaN  NaN   NaN    NaN  NaN  \n",
       "1  0.0  0.0  ...  0.0  0.0  0.0  0.0  0.0  0.0  1.0   0.0    9.0  2.0  \n",
       "2  0.0  4.0  ...  0.0  0.0  0.0  1.0  0.0  0.0  0.0   0.0    6.0  1.0  \n",
       "3  0.0  5.0  ...  0.0  0.0  0.0  1.0  0.0  0.0  0.0   0.0    6.0  1.0  \n",
       "4  0.0  6.0  ...  0.0  0.0  0.0  1.0  0.0  0.0  0.0   0.0    6.0  1.0  \n",
       "\n",
       "[5 rows x 40 columns]"
      ]
     },
     "execution_count": 28,
     "metadata": {},
     "output_type": "execute_result"
    }
   ],
   "source": [
    "df.head()"
   ]
  },
  {
   "cell_type": "code",
   "execution_count": 29,
   "metadata": {},
   "outputs": [
    {
     "data": {
      "text/plain": [
       "(2130, 40)"
      ]
     },
     "execution_count": 29,
     "metadata": {},
     "output_type": "execute_result"
    }
   ],
   "source": [
    "df.shape"
   ]
  },
  {
   "cell_type": "code",
   "execution_count": 30,
   "metadata": {},
   "outputs": [
    {
     "name": "stdout",
     "output_type": "stream",
     "text": [
      "<class 'pandas.core.frame.DataFrame'>\n",
      "RangeIndex: 2130 entries, 0 to 2129\n",
      "Data columns (total 40 columns):\n",
      " #   Column    Non-Null Count  Dtype         \n",
      "---  ------    --------------  -----         \n",
      " 0   FileName  2126 non-null   object        \n",
      " 1   Date      2126 non-null   datetime64[ns]\n",
      " 2   SegFile   2126 non-null   object        \n",
      " 3   b         2126 non-null   float64       \n",
      " 4   e         2126 non-null   float64       \n",
      " 5   LBE       2126 non-null   float64       \n",
      " 6   LB        2126 non-null   float64       \n",
      " 7   AC        2126 non-null   float64       \n",
      " 8   FM        2127 non-null   float64       \n",
      " 9   UC        2127 non-null   float64       \n",
      " 10  ASTV      2127 non-null   float64       \n",
      " 11  MSTV      2127 non-null   float64       \n",
      " 12  ALTV      2127 non-null   float64       \n",
      " 13  MLTV      2127 non-null   float64       \n",
      " 14  DL        2128 non-null   float64       \n",
      " 15  DS        2128 non-null   float64       \n",
      " 16  DP        2128 non-null   float64       \n",
      " 17  DR        2128 non-null   float64       \n",
      " 18  Width     2126 non-null   float64       \n",
      " 19  Min       2126 non-null   float64       \n",
      " 20  Max       2126 non-null   float64       \n",
      " 21  Nmax      2126 non-null   float64       \n",
      " 22  Nzeros    2126 non-null   float64       \n",
      " 23  Mode      2126 non-null   float64       \n",
      " 24  Mean      2126 non-null   float64       \n",
      " 25  Median    2126 non-null   float64       \n",
      " 26  Variance  2126 non-null   float64       \n",
      " 27  Tendency  2126 non-null   float64       \n",
      " 28  A         2126 non-null   float64       \n",
      " 29  B         2126 non-null   float64       \n",
      " 30  C         2126 non-null   float64       \n",
      " 31  D         2126 non-null   float64       \n",
      " 32  E         2126 non-null   float64       \n",
      " 33  AD        2126 non-null   float64       \n",
      " 34  DE        2126 non-null   float64       \n",
      " 35  LD        2126 non-null   float64       \n",
      " 36  FS        2126 non-null   float64       \n",
      " 37  SUSP      2126 non-null   float64       \n",
      " 38  CLASS     2126 non-null   float64       \n",
      " 39  NSP       2126 non-null   float64       \n",
      "dtypes: datetime64[ns](1), float64(37), object(2)\n",
      "memory usage: 665.8+ KB\n"
     ]
    }
   ],
   "source": [
    "df.info()"
   ]
  },
  {
   "cell_type": "code",
   "execution_count": 31,
   "metadata": {},
   "outputs": [
    {
     "data": {
      "text/plain": [
       "<bound method NDFrame.describe of           FileName       Date      SegFile       b       e    LBE     LB   AC  \\\n",
       "0              NaN        NaT          NaN     NaN     NaN    NaN    NaN  NaN   \n",
       "1     Variab10.txt 1996-12-01  CTG0001.txt   240.0   357.0  120.0  120.0  0.0   \n",
       "2       Fmcs_1.txt 1996-05-03  CTG0002.txt     5.0   632.0  132.0  132.0  4.0   \n",
       "3       Fmcs_1.txt 1996-05-03  CTG0003.txt   177.0   779.0  133.0  133.0  2.0   \n",
       "4       Fmcs_1.txt 1996-05-03  CTG0004.txt   411.0  1192.0  134.0  134.0  2.0   \n",
       "...            ...        ...          ...     ...     ...    ...    ...  ...   \n",
       "2125  S8001045.dsp 1998-06-06  CTG2127.txt  1576.0  3049.0  140.0  140.0  1.0   \n",
       "2126  S8001045.dsp 1998-06-06  CTG2128.txt  2796.0  3415.0  142.0  142.0  1.0   \n",
       "2127           NaN        NaT          NaN     NaN     NaN    NaN    NaN  NaN   \n",
       "2128           NaN        NaT          NaN     NaN     NaN    NaN    NaN  NaN   \n",
       "2129           NaN        NaT          NaN     NaN     NaN    NaN    NaN  NaN   \n",
       "\n",
       "         FM    UC  ...    C    D    E   AD   DE   LD   FS  SUSP  CLASS  NSP  \n",
       "0       NaN   NaN  ...  NaN  NaN  NaN  NaN  NaN  NaN  NaN   NaN    NaN  NaN  \n",
       "1       0.0   0.0  ...  0.0  0.0  0.0  0.0  0.0  0.0  1.0   0.0    9.0  2.0  \n",
       "2       0.0   4.0  ...  0.0  0.0  0.0  1.0  0.0  0.0  0.0   0.0    6.0  1.0  \n",
       "3       0.0   5.0  ...  0.0  0.0  0.0  1.0  0.0  0.0  0.0   0.0    6.0  1.0  \n",
       "4       0.0   6.0  ...  0.0  0.0  0.0  1.0  0.0  0.0  0.0   0.0    6.0  1.0  \n",
       "...     ...   ...  ...  ...  ...  ...  ...  ...  ...  ...   ...    ...  ...  \n",
       "2125    0.0   9.0  ...  0.0  0.0  1.0  0.0  0.0  0.0  0.0   0.0    5.0  2.0  \n",
       "2126    1.0   5.0  ...  0.0  0.0  0.0  0.0  0.0  0.0  0.0   0.0    1.0  1.0  \n",
       "2127    NaN   NaN  ...  NaN  NaN  NaN  NaN  NaN  NaN  NaN   NaN    NaN  NaN  \n",
       "2128    NaN   NaN  ...  NaN  NaN  NaN  NaN  NaN  NaN  NaN   NaN    NaN  NaN  \n",
       "2129  564.0  23.0  ...  NaN  NaN  NaN  NaN  NaN  NaN  NaN   NaN    NaN  NaN  \n",
       "\n",
       "[2130 rows x 40 columns]>"
      ]
     },
     "execution_count": 31,
     "metadata": {},
     "output_type": "execute_result"
    }
   ],
   "source": [
    "df.describe"
   ]
  },
  {
   "attachments": {},
   "cell_type": "markdown",
   "metadata": {},
   "source": [
    "## EDA"
   ]
  },
  {
   "cell_type": "code",
   "execution_count": 32,
   "metadata": {},
   "outputs": [],
   "source": [
    "#drop the first 3 columns\n",
    "df.drop(df.columns[[0,1,2]], axis=1, inplace=True)"
   ]
  },
  {
   "cell_type": "code",
   "execution_count": 33,
   "metadata": {},
   "outputs": [],
   "source": [
    "#drop rows with missing values\n",
    "df.dropna(inplace=True)"
   ]
  },
  {
   "cell_type": "code",
   "execution_count": 34,
   "metadata": {},
   "outputs": [
    {
     "data": {
      "text/plain": [
       "(2126, 37)"
      ]
     },
     "execution_count": 34,
     "metadata": {},
     "output_type": "execute_result"
    }
   ],
   "source": [
    "df.shape"
   ]
  },
  {
   "cell_type": "code",
   "execution_count": 35,
   "metadata": {},
   "outputs": [
    {
     "data": {
      "text/plain": [
       "<AxesSubplot:>"
      ]
     },
     "execution_count": 35,
     "metadata": {},
     "output_type": "execute_result"
    },
    {
     "data": {
      "image/png": "[encoded data removed]",
      "text/plain": [
       "<Figure size 864x648 with 2 Axes>"
      ]
     },
     "metadata": {
      "needs_background": "light"
     },
     "output_type": "display_data"
    }
   ],
   "source": [
    "#correlation matrix as heatmap\n",
    "import seaborn as sns\n",
    "import matplotlib.pyplot as plt\n",
    "corrmat = df.corr()\n",
    "f, ax = plt.subplots(figsize=(12, 9))\n",
    "sns.heatmap(corrmat, square=True)"
   ]
  },
  {
   "cell_type": "code",
   "execution_count": 36,
   "metadata": {},
   "outputs": [],
   "source": [
    "#PCA analysis\n",
    "from sklearn.decomposition import PCA\n",
    "from sklearn.preprocessing import StandardScaler\n",
    "import numpy as np\n",
    "\n",
    "# Separating out the features\n",
    "x = df.iloc[:, 0:36].values\n",
    "# Separating out the target\n",
    "y = df.iloc[:,-1].values"
   ]
  },
  {
   "cell_type": "code",
   "execution_count": 37,
   "metadata": {},
   "outputs": [
    {
     "data": {
      "text/plain": [
       "Text(0, 0.5, 'cumulative explained variance')"
      ]
     },
     "execution_count": 37,
     "metadata": {},
     "output_type": "execute_result"
    },
    {
     "data": {
      "image/png": "[encoded data removed]",
      "text/plain": [
       "<Figure size 432x288 with 1 Axes>"
      ]
     },
     "metadata": {
      "needs_background": "light"
     },
     "output_type": "display_data"
    }
   ],
   "source": [
    "\n",
    "#show graph to determine number of components\n",
    "pca = PCA().fit(x)\n",
    "plt.plot(np.cumsum(pca.explained_variance_ratio_))\n",
    "plt.xlabel('number of components')\n",
    "plt.ylabel('cumulative explained variance')"
   ]
  },
  {
   "attachments": {},
   "cell_type": "markdown",
   "metadata": {},
   "source": [
    "25 PCA components explain 95%+ of the variance"
   ]
  },
  {
   "cell_type": "code",
   "execution_count": 38,
   "metadata": {},
   "outputs": [],
   "source": [
    "#split data into training and test sets\n",
    "from sklearn.model_selection import train_test_split\n",
    "x_train, x_test, y_train, y_test = train_test_split(x,y, test_size=.2, random_state=0)"
   ]
  },
  {
   "cell_type": "code",
   "execution_count": 39,
   "metadata": {},
   "outputs": [],
   "source": [
    "#standardize the data\n",
    "scaler = StandardScaler()\n",
    "scaler.fit(x_train)\n",
    "x_train = scaler.transform(x_train)\n",
    "x_test = scaler.transform(x_test)"
   ]
  },
  {
   "cell_type": "code",
   "execution_count": 40,
   "metadata": {},
   "outputs": [],
   "source": [
    "#apply PCA\n",
    "pca = PCA(n_components=25)\n",
    "pca.fit(x_train)\n",
    "x_train = pca.transform(x_train)\n",
    "x_test = pca.transform(x_test)"
   ]
  },
  {
   "attachments": {},
   "cell_type": "markdown",
   "metadata": {},
   "source": [
    "## Predicting the class values using Random forest, SVM, KNN"
   ]
  },
  {
   "cell_type": "code",
   "execution_count": 41,
   "metadata": {},
   "outputs": [],
   "source": [
    "#import classification report\n",
    "from sklearn.metrics import classification_report"
   ]
  },
  {
   "cell_type": "code",
   "execution_count": 42,
   "metadata": {},
   "outputs": [
    {
     "name": "stdout",
     "output_type": "stream",
     "text": [
      "              precision    recall  f1-score   support\n",
      "\n",
      "         1.0       0.94      1.00      0.97       326\n",
      "         2.0       0.98      0.78      0.87        58\n",
      "         3.0       1.00      0.86      0.92        42\n",
      "\n",
      "    accuracy                           0.95       426\n",
      "   macro avg       0.97      0.88      0.92       426\n",
      "weighted avg       0.95      0.95      0.95       426\n",
      "\n"
     ]
    }
   ],
   "source": [
    "#Random Forest\n",
    "from sklearn.ensemble import RandomForestClassifier\n",
    "rf = RandomForestClassifier(n_estimators=100, max_depth=3, random_state=123)\n",
    "rf.fit(x_train, y_train)\n",
    "y_pred = rf.predict(x_test)\n",
    "\n",
    "#Classification report\n",
    "\n",
    "print(classification_report(y_test, y_pred))"
   ]
  },
  {
   "attachments": {},
   "cell_type": "markdown",
   "metadata": {},
   "source": [
    "The Random Forest classifier demonstrated outstanding performance with an impressive overall accuracy of 0.95 (95%).\n",
    "\n",
    "It excelled in predicting class 1.0, exhibiting exceptional precision, recall, and F1-score of 0.94, 1.00, and 0.97, respectively.\n",
    "\n",
    "For class 2.0, the classifier achieved a commendable precision of 0.98. Although the recall was slightly lower at 0.78, the resulting F1-score was still respectable at 0.87.\n",
    "\n",
    "In the case of class 3.0, the classifier achieved remarkable precision and recall scores of 1.00 and 0.86, respectively, resulting in an impressive F1-score of 0.92."
   ]
  },
  {
   "cell_type": "code",
   "execution_count": 43,
   "metadata": {},
   "outputs": [
    {
     "name": "stdout",
     "output_type": "stream",
     "text": [
      "              precision    recall  f1-score   support\n",
      "\n",
      "         1.0       0.98      0.99      0.99       326\n",
      "         2.0       0.96      0.90      0.93        58\n",
      "         3.0       1.00      1.00      1.00        42\n",
      "\n",
      "    accuracy                           0.98       426\n",
      "   macro avg       0.98      0.96      0.97       426\n",
      "weighted avg       0.98      0.98      0.98       426\n",
      "\n"
     ]
    }
   ],
   "source": [
    "#svm\n",
    "from sklearn.svm import SVC\n",
    "svm = SVC(kernel='linear', C=1, random_state=123)\n",
    "svm.fit(x_train, y_train)\n",
    "y_pred = svm.predict(x_test)\n",
    "\n",
    "#Classification report\n",
    "print(classification_report(y_test, y_pred))"
   ]
  },
  {
   "attachments": {},
   "cell_type": "markdown",
   "metadata": {},
   "source": [
    "The SVM classifier showcased exceptional performance, achieving an impressive overall accuracy of 0.98 (98%).\n",
    "\n",
    "It demonstrated remarkable precision, recall, and F1-scores for all classes, with values ranging from 0.98 to 1.00.\n",
    "\n",
    "For class 1.0, the classifier achieved a precision of 0.98 and a recall of 0.99, resulting in an outstanding F1-score of 0.99.\n",
    "\n",
    "In the case of class 2.0, the classifier exhibited a precision score of 0.96, indicating a high level of accuracy in positive predictions. The recall score was 0.90, suggesting that the classifier successfully identified a substantial portion of the positive instances. The resulting F1-score for this class was 0.93.\n",
    "\n",
    "For class 3.0, the classifier achieved a perfect precision and recall score of 1.00, indicating flawless performance in predicting positive instances. Consequently, the F1-score for this class was also a perfect 1.00."
   ]
  },
  {
   "cell_type": "code",
   "execution_count": 44,
   "metadata": {},
   "outputs": [
    {
     "name": "stdout",
     "output_type": "stream",
     "text": [
      "              precision    recall  f1-score   support\n",
      "\n",
      "         1.0       0.98      1.00      0.99       326\n",
      "         2.0       0.98      0.91      0.95        58\n",
      "         3.0       1.00      1.00      1.00        42\n",
      "\n",
      "    accuracy                           0.99       426\n",
      "   macro avg       0.99      0.97      0.98       426\n",
      "weighted avg       0.99      0.99      0.99       426\n",
      "\n"
     ]
    }
   ],
   "source": [
    "#KNN\n",
    "from sklearn.neighbors import KNeighborsClassifier\n",
    "knn = KNeighborsClassifier(n_neighbors=5)\n",
    "knn.fit(x_train, y_train)\n",
    "y_pred = knn.predict(x_test)\n",
    "\n",
    "#Classification report\n",
    "print(classification_report(y_test, y_pred))"
   ]
  },
  {
   "attachments": {},
   "cell_type": "markdown",
   "metadata": {},
   "source": [
    "The KNN classifier exhibited outstanding performance, achieving an impressive overall accuracy of 0.99 (99%).\n",
    "\n",
    "Similar to the SVM classifier, it delivered excellent results across all classes, showcasing high precision, recall, and F1-scores ranging from 0.99 to 1.00.\n",
    "\n",
    "For class 1.0 and 2.0, the classifier achieved a precision, recall, and F1-score of 0.99, indicating precise and accurate predictions. The model performed exceptionally well in identifying positive instances for these classes.\n",
    "\n",
    "Furthermore, class 3.0 was predicted flawlessly, attaining perfect precision, recall, and F1-scores of 1.00. This indicates the classifier's ability to identify and classify instances belonging to class 3.0 with absolute accuracy."
   ]
  },
  {
   "attachments": {},
   "cell_type": "markdown",
   "metadata": {},
   "source": [
    "In summary, all three classifiers (Random Forest, SVM, and KNN) performed well, with overall accuracies above 0.95. However, the SVM and KNN classifiers achieved slightly higher accuracy compared to the Random Forest classifier. The SVM classifier showed the best performance with near-perfect precision, recall, and F1-scores for all classes."
   ]
  },
  {
   "cell_type": "code",
   "execution_count": 45,
   "metadata": {},
   "outputs": [
    {
     "name": "stdout",
     "output_type": "stream",
     "text": [
      "              precision    recall  f1-score   support\n",
      "\n",
      "         1.0       0.95      1.00      0.97       336\n",
      "         2.0       1.00      0.65      0.79        55\n",
      "         3.0       1.00      1.00      1.00        35\n",
      "\n",
      "    accuracy                           0.96       426\n",
      "   macro avg       0.98      0.88      0.92       426\n",
      "weighted avg       0.96      0.96      0.95       426\n",
      "\n"
     ]
    }
   ],
   "source": [
    "#do random forest without pca \n",
    "x = df.iloc[:, 0:36].values\n",
    "# Separating out the target\n",
    "y = df.iloc[:,-1].values\n",
    "x_train, x_test, y_train, y_test = train_test_split(x, y, test_size=0.2, random_state=123)\n",
    "\n",
    "rf = RandomForestClassifier(n_estimators=100, max_depth=3, random_state=123)\n",
    "rf.fit(x_train, y_train)\n",
    "\n",
    "y_pred = rf.predict(x_test)\n",
    "\n",
    "#Classification report\n",
    "\n",
    "print(classification_report(y_test, y_pred))\n",
    "\n"
   ]
  },
  {
   "cell_type": "code",
   "execution_count": 46,
   "metadata": {},
   "outputs": [
    {
     "data": {
      "text/plain": [
       "<matplotlib.legend.Legend at 0x1ce32a04ac0>"
      ]
     },
     "execution_count": 46,
     "metadata": {},
     "output_type": "execute_result"
    },
    {
     "data": {
      "image/png": "[encoded data removed]",
      "text/plain": [
       "<Figure size 720x432 with 1 Axes>"
      ]
     },
     "metadata": {
      "needs_background": "light"
     },
     "output_type": "display_data"
    }
   ],
   "source": [
    "#Feature Importance plot\n",
    "import matplotlib.pyplot as plt\n",
    "import seaborn as sns\n",
    "\n",
    "feature_importances = pd.DataFrame(rf.feature_importances_,\n",
    "                                      index = df.iloc[:, 0:36].columns,\n",
    "                                        columns=['importance']).sort_values('importance', ascending=False)\n",
    "\n",
    "plt.figure(figsize=(10,6))\n",
    "sns.barplot(x=feature_importances.index, y=feature_importances['importance'])\n",
    "plt.xlabel('Features')\n",
    "plt.ylabel('Importance')\n",
    "plt.title('Feature Importance')\n",
    "plt.xticks(rotation=90)\n",
    "plt.tight_layout()\n",
    "\n",
    "# Add legend\n",
    "legend_labels = feature_importances.index.tolist()\n",
    "legend_handles = [plt.bar(legend_labels[i], 0, color=sns.color_palette(n_colors=len(legend_labels))[i]) for i in range(len(legend_labels))]\n",
    "plt.legend(legend_handles, legend_labels)"
   ]
  },
  {
   "attachments": {},
   "cell_type": "markdown",
   "metadata": {},
   "source": [
    "we run Random forest without applying PCA to get the feature importance and we get the following results:\n",
    "\n",
    "CLASS is the most important feature followed by SUSP and MSTV"
   ]
  }
 ],
 "metadata": {
  "kernelspec": {
   "display_name": "base",
   "language": "python",
   "name": "python3"
  },
  "language_info": {
   "codemirror_mode": {
    "name": "ipython",
    "version": 3
   },
   "file_extension": ".py",
   "mimetype": "text/x-python",
   "name": "python",
   "nbconvert_exporter": "python",
   "pygments_lexer": "ipython3",
   "version": "3.9.12"
  },
  "orig_nbformat": 4
 },
 "nbformat": 4,
 "nbformat_minor": 2
}
